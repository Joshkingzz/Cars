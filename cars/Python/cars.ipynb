{
 "cells": [
  {
   "cell_type": "code",
   "execution_count": 1,
   "id": "d45e2599",
   "metadata": {},
   "outputs": [],
   "source": [
    "import pandas as pd\n"
   ]
  },
  {
   "cell_type": "code",
   "execution_count": 2,
   "id": "1c262c05",
   "metadata": {},
   "outputs": [],
   "source": [
    "url = r\"C:\\Users\\HP\\Desktop\\Joshua's files\\My data sets\\cars\\Python\\Cars.csv\"\n",
    "df = pd.read_csv(url)"
   ]
  },
  {
   "cell_type": "code",
   "execution_count": null,
   "id": "a464c1e9",
   "metadata": {},
   "outputs": [],
   "source": [
    "columns_to_encode = ['Car Make', 'Car Model', 'Year', 'Fuel Type', 'Color', 'Transmission', 'Options/Features', 'Condition', 'Accident']\n",
    "\n",
    "for col in columns_to_encode:\n",
    "    df[col + 'ID'] = df[col].astype('category').cat.codes\n",
    "\n"
   ]
  },
  {
   "cell_type": "markdown",
   "id": "0c5d31c5",
   "metadata": {},
   "source": []
  },
  {
   "cell_type": "code",
   "execution_count": null,
   "id": "e3825286",
   "metadata": {},
   "outputs": [],
   "source": []
  },
  {
   "cell_type": "code",
   "execution_count": 6,
   "id": "6cccf8f4",
   "metadata": {},
   "outputs": [
    {
     "data": {
      "text/plain": [
       "Index(['ID', 'Car Make', 'Car Model', 'Year', 'Mileage', 'Price', 'Fuel Type',\n",
       "       'Color', 'Transmission', 'Options/Features', 'Condition', 'Accident',\n",
       "       'Car MakeID', 'Car ModelID', 'YearID', 'Fuel TypeID', 'ColorID',\n",
       "       'TransmissionID', 'Options/FeaturesID', 'ConditionID', 'AccidentID'],\n",
       "      dtype='object')"
      ]
     },
     "execution_count": 6,
     "metadata": {},
     "output_type": "execute_result"
    }
   ],
   "source": [
    "df.columns"
   ]
  },
  {
   "cell_type": "code",
   "execution_count": 7,
   "id": "e7be8d64",
   "metadata": {},
   "outputs": [],
   "source": [
    "cols = ['ID', 'Car MakeID', 'Car Make',  'Car ModelID', 'Car Model', 'YearID',\n",
    "         'Year', 'Mileage', 'Price',  'Fuel TypeID', 'Fuel Type', 'ColorID', 'Color',\n",
    "        'TransmissionID', 'Transmission', 'Options/FeaturesID', 'Options/Features',\n",
    "        'ConditionID', 'Condition', 'Accident', 'AccidentID']\n",
    "\n",
    "df = df[cols]\n",
    "\n",
    "df.to_csv('Car.csv', index = False)"
   ]
  },
  {
   "cell_type": "code",
   "execution_count": 7,
   "id": "89670ae5",
   "metadata": {},
   "outputs": [
    {
     "name": "stdout",
     "output_type": "stream",
     "text": [
      "<class 'pandas.core.frame.DataFrame'>\n",
      "RangeIndex: 23000 entries, 0 to 22999\n",
      "Data columns (total 12 columns):\n",
      " #   Column            Non-Null Count  Dtype  \n",
      "---  ------            --------------  -----  \n",
      " 0   ID                23000 non-null  int64  \n",
      " 1   Car Make          23000 non-null  object \n",
      " 2   Car Model         23000 non-null  object \n",
      " 3   Year              23000 non-null  int64  \n",
      " 4   Mileage           23000 non-null  int64  \n",
      " 5   Price             23000 non-null  float64\n",
      " 6   Fuel Type         23000 non-null  object \n",
      " 7   Color             23000 non-null  object \n",
      " 8   Transmission      23000 non-null  object \n",
      " 9   Options/Features  23000 non-null  object \n",
      " 10  Condition         23000 non-null  object \n",
      " 11  Accident          23000 non-null  object \n",
      "dtypes: float64(1), int64(3), object(8)\n",
      "memory usage: 2.1+ MB\n"
     ]
    }
   ],
   "source": [
    "df.info()"
   ]
  },
  {
   "cell_type": "code",
   "execution_count": null,
   "id": "85374fc5",
   "metadata": {},
   "outputs": [],
   "source": []
  },
  {
   "cell_type": "code",
   "execution_count": null,
   "id": "5b32630e",
   "metadata": {},
   "outputs": [],
   "source": []
  },
  {
   "cell_type": "code",
   "execution_count": null,
   "id": "ea16eb94",
   "metadata": {},
   "outputs": [],
   "source": []
  }
 ],
 "metadata": {
  "kernelspec": {
   "display_name": "Python 3",
   "language": "python",
   "name": "python3"
  },
  "language_info": {
   "codemirror_mode": {
    "name": "ipython",
    "version": 3
   },
   "file_extension": ".py",
   "mimetype": "text/x-python",
   "name": "python",
   "nbconvert_exporter": "python",
   "pygments_lexer": "ipython3",
   "version": "3.12.0"
  }
 },
 "nbformat": 4,
 "nbformat_minor": 5
}
